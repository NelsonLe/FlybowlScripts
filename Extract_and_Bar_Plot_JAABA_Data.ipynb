{
  "nbformat": 4,
  "nbformat_minor": 0,
  "metadata": {
    "colab": {
      "provenance": [],
      "authorship_tag": "ABX9TyMad+iwKCCoZIo6qsiilL8E",
      "include_colab_link": true
    },
    "kernelspec": {
      "name": "python3",
      "display_name": "Python 3"
    },
    "language_info": {
      "name": "python"
    }
  },
  "cells": [
    {
      "cell_type": "markdown",
      "metadata": {
        "id": "view-in-github",
        "colab_type": "text"
      },
      "source": [
        "<a href=\"https://colab.research.google.com/github/NelsonLe/FlybowlScripts/blob/main/Extract_and_Bar_Plot_JAABA_Data.ipynb\" target=\"_parent\"><img src=\"https://colab.research.google.com/assets/colab-badge.svg\" alt=\"Open In Colab\"/></a>"
      ]
    },
    {
      "cell_type": "code",
      "execution_count": 1,
      "metadata": {
        "colab": {
          "base_uri": "https://localhost:8080/"
        },
        "id": "i3gUD_Rrcjrs",
        "outputId": "e3dcdf66-ad39-4318-fe14-ebee96a31f2c"
      },
      "outputs": [
        {
          "output_type": "stream",
          "name": "stdout",
          "text": [
            "Mounted at /content/drive\n"
          ]
        }
      ],
      "source": [
        "from google.colab import drive\n",
        "drive.mount('/content/drive')"
      ]
    },
    {
      "cell_type": "code",
      "source": [
        "import os\n",
        "import numpy as np\n",
        "import scipy as sp\n",
        "import pandas as pd\n",
        "import matplotlib.pyplot as plt\n",
        "\n",
        "import matplotlib\n",
        "matplotlib.rcParams['pdf.fonttype'] = 42\n",
        "matplotlib.rcParams['ps.fonttype'] = 42"
      ],
      "metadata": {
        "id": "rJOAHTJJsaZA"
      },
      "execution_count": 2,
      "outputs": []
    },
    {
      "cell_type": "markdown",
      "source": [
        "# Extract and Save Data"
      ],
      "metadata": {
        "id": "M6dqcAaasMw4"
      }
    },
    {
      "cell_type": "code",
      "source": [
        "def get_behaviors_list(exp_dir):\n",
        "    \"\"\"\n",
        "    Finds first JAABA experiment and returns list of all behavioral files.\n",
        "    \"\"\"\n",
        "    flybowl_path = os.path.join(exp_dir, next(os.walk(exp_dir))[1][0])\n",
        "    return list(filter(lambda x: x.startswith('scores'), os.listdir(flybowl_path)))\n",
        "\n",
        "def create_column_names(behaviors):\n",
        "    \"\"\"\n",
        "    Creates a list of column names for the dataframe based on the behavioral files.\n",
        "    This allows for any combination of behavioral files to be used.\n",
        "    \"\"\"\n",
        "    column_names = ['Name']\n",
        "    for behavior in behaviors:\n",
        "        column_names += [behavior[7:-4] + ' - Total Occurrences', behavior[7:-4] + ' - Total Time (s)']\n",
        "    return column_names\n",
        "\n",
        "def get_a_flybowl_behavior_data(data):\n",
        "    t0 = data['allScores'][0][0][5][0]\n",
        "    t1 = data['allScores'][0][0][6][0]\n",
        "    diff = np.subtract(t1, t0)\n",
        "\n",
        "    total_occurrences, total_frames = 0, 0\n",
        "    for fly in diff:\n",
        "        total_occurrences += fly.shape[1]\n",
        "        total_frames += np.sum(fly)\n",
        "\n",
        "    return total_occurrences, total_frames/30\n",
        "\n",
        "def get_all_behavioral_data(flybowl_dir, flybowl, behaviors):\n",
        "    flybowl_row = [flybowl]\n",
        "    for behavior in behaviors:\n",
        "        flybowl_row += get_a_flybowl_behavior_data(sp.io.loadmat(os.path.join(flybowl_dir, behavior)))\n",
        "    return flybowl_row\n",
        "\n",
        "def get_collated_data(exp_dir, behaviors):\n",
        "    df = pd.DataFrame(columns=create_column_names(behaviors))\n",
        "    for flybowl in sorted(os.listdir(exp_dir)):\n",
        "          print(flybowl)\n",
        "          df.loc[len(df)] = get_all_behavioral_data(os.path.join(exp_dir, flybowl), flybowl, behaviors)\n",
        "    return df"
      ],
      "metadata": {
        "id": "H8ovzSggcvZm"
      },
      "execution_count": 3,
      "outputs": []
    },
    {
      "cell_type": "code",
      "source": [
        "dir_name = '/content/drive/MyDrive/0 Flybowl/2025 FlyBowl JABBA data'\n",
        "folders = ['2-5-2025-30207JAABAData', '2-12-2025-30207JAABAData']  # 30207\n",
        "# folders = ['2-20-2025-102864JAABAData', '3-4-2025-102864JAABAData', '3-26-2025-102864JAABAData']  # 102864\n",
        "\n",
        "summary = pd.DataFrame([])\n",
        "for folder in folders:\n",
        "  path = os.path.join(dir_name, folder)\n",
        "\n",
        "  behaviors_list = get_behaviors_list(path)\n",
        "  behaviors_list.sort()\n",
        "\n",
        "  temp = get_collated_data(path, behaviors_list).sort_values('Name')\n",
        "  summary = pd.concat([summary, temp], ignore_index=True)\n",
        "\n",
        "summary['group'] = summary['Name'].str.rsplit(' ').str[-1].str[1:2]\n",
        "summary.to_excel(os.path.join('/content/drive/MyDrive/0 Flybowl/30207.xlsx'), index=False)"
      ],
      "metadata": {
        "id": "5xNI_Scph1JU"
      },
      "execution_count": null,
      "outputs": []
    },
    {
      "cell_type": "markdown",
      "source": [
        "# Bar Plots"
      ],
      "metadata": {
        "id": "eIeUCJFVsQJy"
      }
    },
    {
      "cell_type": "code",
      "source": [
        "def plot(df, title, top_ylim=None):\n",
        "  df = df[df.columns.drop(list(df.filter(regex=' - Total Occurrences')))]\n",
        "  df = df.drop(['Name'], axis=1)\n",
        "\n",
        "  renamed_cols = []\n",
        "  for column in df.columns:\n",
        "    renamed_cols.append(column[:column.find('-')])\n",
        "  df.columns=renamed_cols\n",
        "\n",
        "  w, t = 0.25, 0.666\n",
        "  colors = ['lightgray', 'darkgray', 'deepskyblue']\n",
        "  x = np.arange(15)\n",
        "  fig, ax = plt.subplots(figsize=(16, 10))\n",
        "\n",
        "  means = df.groupby('grou').mean()\n",
        "\n",
        "  bars = []\n",
        "  for i in x:\n",
        "    bars.append(ax.bar(i+0*w, means.loc[2, df.columns[i]], w, alpha=t, color=colors[0]))\n",
        "    bars.append(ax.bar(i+1*w, means.loc[3, df.columns[i]], w, alpha=t, color=colors[1]))\n",
        "    bars.append(ax.bar(i+2*w, means.loc[1, df.columns[i]], w, alpha=t, color=colors[2]))\n",
        "\n",
        "  c1, c2, exp = df[df['grou']==2], df[df['grou']==3], df[df['grou']==1]\n",
        "  for i in x:\n",
        "    ax.scatter(i+0*w+np.random.uniform(-0.1, 0.1, len(c1.iloc[:, i])), c1.iloc[:, i], alpha=t, color=colors[0])\n",
        "    ax.scatter(i+1*w+np.random.uniform(-0.1, 0.1, len(c2.iloc[:, i])), c2.iloc[:, i], alpha=t, color=colors[1])\n",
        "    ax.scatter(i+2*w+np.random.uniform(-0.1, 0.1, len(exp.iloc[:, i])), exp.iloc[:, i], alpha=t, color=colors[2])\n",
        "\n",
        "  ax.set_xticks(x+w, df.columns[:-1])\n",
        "  ax.set_ylim(top=top_ylim)\n",
        "  ax.set_ylabel('Total Time (s)')\n",
        "  ax.set_title(title)\n",
        "  ax.spines[['right', 'top']].set_visible(False)\n",
        "\n",
        "  fig.tight_layout()\n",
        "  fig.patch.set_alpha(0)\n",
        "  ax.patch.set_alpha(0)\n",
        "  fig.savefig(f'/content/drive/MyDrive/0 Flybowl/bar/{title}_{top_ylim}.pdf', transparent=True)"
      ],
      "metadata": {
        "id": "nnth5WcItCSF"
      },
      "execution_count": 14,
      "outputs": []
    },
    {
      "cell_type": "code",
      "source": [
        "plot(pd.read_excel('/content/drive/MyDrive/0 Flybowl/bar/102864.xlsx'), '102864', top_ylim=None)"
      ],
      "metadata": {
        "id": "VTFfgKHQvAq3"
      },
      "execution_count": null,
      "outputs": []
    }
  ]
}