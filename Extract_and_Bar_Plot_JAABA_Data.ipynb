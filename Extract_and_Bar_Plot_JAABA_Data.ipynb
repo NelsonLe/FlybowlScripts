{
  "nbformat": 4,
  "nbformat_minor": 0,
  "metadata": {
    "colab": {
      "provenance": [],
      "authorship_tag": "ABX9TyNTui3xqIbp5qTFR9Z7KEAZ"
    },
    "kernelspec": {
      "name": "python3",
      "display_name": "Python 3"
    },
    "language_info": {
      "name": "python"
    }
  },
  "cells": [
    {
      "cell_type": "code",
      "execution_count": 1,
      "metadata": {
        "colab": {
          "base_uri": "https://localhost:8080/"
        },
        "id": "i3gUD_Rrcjrs",
        "outputId": "c0562944-79dd-4bdd-956a-9365e3caabb5"
      },
      "outputs": [
        {
          "output_type": "stream",
          "name": "stdout",
          "text": [
            "Mounted at /content/drive\n"
          ]
        }
      ],
      "source": [
        "from google.colab import drive\n",
        "drive.mount('/content/drive')"
      ]
    },
    {
      "cell_type": "code",
      "source": [
        "import os\n",
        "import numpy as np\n",
        "import scipy as sp\n",
        "import pandas as pd\n",
        "import matplotlib.pyplot as plt\n",
        "\n",
        "import matplotlib\n",
        "matplotlib.rcParams['pdf.fonttype'] = 42\n",
        "matplotlib.rcParams['ps.fonttype'] = 42"
      ],
      "metadata": {
        "id": "rJOAHTJJsaZA"
      },
      "execution_count": 2,
      "outputs": []
    },
    {
      "cell_type": "markdown",
      "source": [
        "# Extract and Save Data"
      ],
      "metadata": {
        "id": "M6dqcAaasMw4"
      }
    },
    {
      "cell_type": "code",
      "source": [
        "def get_behaviors_list(exp_dir):\n",
        "    \"\"\"\n",
        "    Finds first JAABA experiment and returns list of all behavioral files.\n",
        "    \"\"\"\n",
        "    flybowl_path = os.path.join(exp_dir, next(os.walk(exp_dir))[1][0])\n",
        "    return list(filter(lambda x: x.startswith('scores'), os.listdir(flybowl_path)))\n",
        "\n",
        "def create_column_names(behaviors):\n",
        "    \"\"\"\n",
        "    Creates a list of column names for the dataframe based on the behavioral files.\n",
        "    This allows for any combination of behavioral files to be used.\n",
        "    \"\"\"\n",
        "    column_names = ['Name']\n",
        "    for behavior in behaviors:\n",
        "        column_names += [behavior[7:-4] + ' - Total Occurrences', behavior[7:-4] + ' - Total Time (s)']\n",
        "    return column_names\n",
        "\n",
        "def get_a_flybowl_behavior_data(data):\n",
        "    t0 = data['allScores'][0][0][5][0]\n",
        "    t1 = data['allScores'][0][0][6][0]\n",
        "    diff = np.subtract(t1, t0)\n",
        "\n",
        "    total_occurrences, total_frames = 0, 0\n",
        "    for fly in diff:\n",
        "        total_occurrences += fly.shape[1]\n",
        "        total_frames += np.sum(fly)\n",
        "\n",
        "    return total_occurrences, total_frames/30\n",
        "\n",
        "def get_all_behavioral_data(flybowl_dir, flybowl, behaviors):\n",
        "    flybowl_row = [flybowl]\n",
        "    for behavior in behaviors:\n",
        "        flybowl_row += get_a_flybowl_behavior_data(sp.io.loadmat(os.path.join(flybowl_dir, behavior)))\n",
        "    return flybowl_row\n",
        "\n",
        "def get_collated_data(exp_dir, behaviors):\n",
        "    df = pd.DataFrame(columns=create_column_names(behaviors))\n",
        "    for flybowl in sorted(os.listdir(exp_dir)):\n",
        "          print(flybowl)\n",
        "          df.loc[len(df)] = get_all_behavioral_data(os.path.join(exp_dir, flybowl), flybowl, behaviors)\n",
        "    return df"
      ],
      "metadata": {
        "id": "H8ovzSggcvZm"
      },
      "execution_count": 3,
      "outputs": []
    },
    {
      "cell_type": "code",
      "source": [
        "dir_name = '/content/drive/MyDrive/0 Flybowl/48 hrs-JAABAData'\n",
        "# dir_name = '/content/drive/MyDrive/0 Flybowl/2025 FlyBowl JABBA data'\n",
        "folders = ['13.17.23', '13.25.49', '13.33.55', '13.42.27']\n",
        "# folders = ['2-5-2025-30207JAABAData', '2-12-2025-30207JAABAData']  # 30207\n",
        "# folders = ['2-20-2025-102864JAABAData', '3-4-2025-102864JAABAData', '3-26-2025-102864JAABAData']  # 102864\n",
        "\n",
        "summary = pd.DataFrame([])\n",
        "for folder in folders:\n",
        "  path = os.path.join(dir_name, folder)\n",
        "\n",
        "  behaviors_list = get_behaviors_list(path)\n",
        "  behaviors_list.sort()\n",
        "\n",
        "  temp = get_collated_data(path, behaviors_list).sort_values('Name')\n",
        "  summary = pd.concat([summary, temp], ignore_index=True)\n",
        "\n",
        "# this summary['group'] part is where groups are determined\n",
        "summary['group'] = summary['Name']  # I just leave it as Q1, ..., Q4\n",
        "# summary['group'] = summary['Name'].str.rsplit(' ').str[-1].str[1:2]  # original\n",
        "summary.to_excel(os.path.join('/content/drive/MyDrive/0 Flybowl/test.xlsx'), index=False)"
      ],
      "metadata": {
        "id": "5xNI_Scph1JU"
      },
      "execution_count": null,
      "outputs": []
    },
    {
      "cell_type": "markdown",
      "source": [
        "# Bar Plots"
      ],
      "metadata": {
        "id": "eIeUCJFVsQJy"
      }
    },
    {
      "cell_type": "code",
      "source": [
        "def plot(df, title, group_colors, output_folder, top_ylim=None):\n",
        "  df = df[df.columns.drop(list(df.filter(regex=' - Total Occurrences')))]\n",
        "  df = df.drop(['Name'], axis=1)\n",
        "\n",
        "  renamed_cols = []\n",
        "  for column in df.columns:\n",
        "    renamed_cols.append(column[:column.find('-')])\n",
        "  df.columns=renamed_cols\n",
        "\n",
        "  t = 0.666\n",
        "  x = np.arange(len(df.columns)-1)\n",
        "  fig, ax = plt.subplots(figsize=(16, 10))\n",
        "\n",
        "  groups = df['grou'].unique()\n",
        "  w = 0.75/len(groups)\n",
        "  s_w = 0.2/len(groups)\n",
        "\n",
        "  means = df.groupby('grou').mean()\n",
        "\n",
        "  bars = []\n",
        "  for i in x:\n",
        "    for j, group in enumerate(means.index):\n",
        "      bars.append(ax.bar(i+j*w, means.loc[group, df.columns[i]], w, alpha=t, color=group_colors[group]))\n",
        "\n",
        "  for i in x:\n",
        "    for j, group in enumerate(means.index):\n",
        "      grouping = df[df['grou']==group].iloc[:, i]\n",
        "      ax.scatter(i+j*w+np.random.uniform(-1*s_w, s_w, len(grouping)), grouping, alpha=t, color=group_colors[group])\n",
        "\n",
        "  ax.legend(bars, means.index, loc='upper left', ncol=len(means.index))\n",
        "  ax.set_xticks(x+w*(1 if len(groups)%2 else 1.5), df.columns[:-1])\n",
        "  ax.set_ylim(top=top_ylim)\n",
        "  ax.set_ylabel('Total Time (s)')\n",
        "  ax.set_title(title)\n",
        "  ax.spines[['right', 'top']].set_visible(False)\n",
        "\n",
        "  fig.tight_layout()\n",
        "  fig.patch.set_alpha(0)\n",
        "  ax.patch.set_alpha(0)\n",
        "  fig.savefig(os.path.join(output_folder, f'{title}_{top_ylim}.pdf'), transparent=True)"
      ],
      "metadata": {
        "id": "nnth5WcItCSF"
      },
      "execution_count": 143,
      "outputs": []
    },
    {
      "cell_type": "code",
      "source": [
        "# you can use named colors (https://matplotlib.org/stable/gallery/color/named_colors.html) or hexadecimal\n",
        "colors = {'Q1':'tab:blue', 'Q2':'tab:orange', 'Q3':'tab:green', 'Q4':'tab:red'}\n",
        "# colors = {1:'tab:blue', 2:'tab:orange', 3:'tab:green'}  # original\n",
        "output_folder = '/content/drive/MyDrive/0 Flybowl'\n",
        "plot(pd.read_excel('/content/drive/MyDrive/0 Flybowl/test.xlsx'), 'test', colors, output_folder, top_ylim=None)"
      ],
      "metadata": {
        "id": "VTFfgKHQvAq3"
      },
      "execution_count": null,
      "outputs": []
    }
  ]
}