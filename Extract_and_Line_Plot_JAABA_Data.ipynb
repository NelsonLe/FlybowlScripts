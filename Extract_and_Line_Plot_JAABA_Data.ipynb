{
  "nbformat": 4,
  "nbformat_minor": 0,
  "metadata": {
    "colab": {
      "provenance": [],
      "authorship_tag": "ABX9TyM3DOqRpAPeQuKOXvttkmuf"
    },
    "kernelspec": {
      "name": "python3",
      "display_name": "Python 3"
    },
    "language_info": {
      "name": "python"
    }
  },
  "cells": [
    {
      "cell_type": "code",
      "execution_count": 1,
      "metadata": {
        "colab": {
          "base_uri": "https://localhost:8080/"
        },
        "id": "DdV1eLH34kfI",
        "outputId": "6ab37839-a142-4ea5-c0b6-e5f4e982ec19"
      },
      "outputs": [
        {
          "output_type": "stream",
          "name": "stdout",
          "text": [
            "Mounted at /content/drive\n"
          ]
        }
      ],
      "source": [
        "from google.colab import drive\n",
        "drive.mount('/content/drive')"
      ]
    },
    {
      "cell_type": "code",
      "source": [
        "import os\n",
        "import numpy as np\n",
        "import pandas as pd\n",
        "import scipy as sp\n",
        "import matplotlib.pyplot as plt\n",
        "\n",
        "import matplotlib\n",
        "matplotlib.rcParams['pdf.fonttype'] = 42\n",
        "matplotlib.rcParams['ps.fonttype'] = 42"
      ],
      "metadata": {
        "id": "Md6fnLQc4sDx"
      },
      "execution_count": 2,
      "outputs": []
    },
    {
      "cell_type": "markdown",
      "source": [
        "# Get list of behaviors"
      ],
      "metadata": {
        "id": "900FVtyY7x_B"
      }
    },
    {
      "cell_type": "code",
      "source": [
        "def get_behaviors_list(exp_dir):\n",
        "    \"\"\"\n",
        "    Finds first JAABA experiment and returns list of all behavioral files.\n",
        "    \"\"\"\n",
        "    flybowl_path = os.path.join(exp_dir, next(os.walk(exp_dir))[1][0])\n",
        "    return list(filter(lambda x: x.startswith('scores'), os.listdir(flybowl_path)))\n",
        "behaviors_list = get_behaviors_list(os.path.join('/content/drive/MyDrive/0 Flybowl/48 hrs-JAABAData/13.17.23'))\n",
        "print(behaviors_list)"
      ],
      "metadata": {
        "colab": {
          "base_uri": "https://localhost:8080/"
        },
        "id": "rN6YeJJy7xxN",
        "outputId": "5e639d43-edb0-4e3b-afa2-9d2479934d0f"
      },
      "execution_count": 72,
      "outputs": [
        {
          "output_type": "stream",
          "name": "stdout",
          "text": [
            "['scores_AttemptedCopulation.mat', 'scores_BodyTurns.mat', 'scores_Chaining.mat', 'scores_Chasev7.mat', 'scores_Copulation.mat', 'scores_Crabwalk2.mat', 'scores_Crabwalk3.mat', 'scores_Jump.mat', 'scores_pivot_center.mat', 'scores_pivot_tail.mat', 'scores_Stops.mat', 'scoresTouch.mat', 'scores_Walk.mat', 'scoresBackup.mat']\n"
          ]
        }
      ]
    },
    {
      "cell_type": "markdown",
      "source": [
        "# Set up folder structure for data storage"
      ],
      "metadata": {
        "id": "TdN0L-DN6IP1"
      }
    },
    {
      "cell_type": "code",
      "source": [
        "for behavior in behaviors_list:\n",
        "    os.mkdir(os.path.join('/content/drive/MyDrive/0 Flybowl/test', behavior[behavior.find(\"_\")+1:behavior.rfind(\".\")]))"
      ],
      "metadata": {
        "id": "PuALz0_74uAe"
      },
      "execution_count": null,
      "outputs": []
    },
    {
      "cell_type": "markdown",
      "source": [
        "# Get experimental groupings for each line"
      ],
      "metadata": {
        "id": "Pc7VOWdr6wPf"
      }
    },
    {
      "cell_type": "code",
      "source": [
        "def get_exp_groupings(exp_dir, subfolders):\n",
        "  groupings_list = []\n",
        "  for subfolder in subfolders:\n",
        "    for exp in os.listdir(os.path.join(exp_dir, subfolder)):\n",
        "      exp_path = os.path.join(exp_dir, subfolder, exp)\n",
        "      groupings_list.append([exp_path, exp])\n",
        "      # groupings_list.append([exp_path, exp.rsplit(' ')[-1][1:2]])  # original\n",
        "  return pd.DataFrame(groupings_list, columns=['path', 'group'])\n",
        "\n",
        "dir_name = '/content/drive/MyDrive/0 Flybowl/48 hrs-JAABAData'\n",
        "folders = ['13.17.23', '13.25.49', '13.33.55', '13.42.27']\n",
        "paths = get_exp_groupings(dir_name, folders)\n",
        "\n",
        "# dir_name = '/content/drive/MyDrive/0 Flybowl/2025 FlyBowl JABBA data'\n",
        "# folders = ['2-5-2025-30207JAABAData', '2-12-2025-30207JAABAData']\n",
        "# paths = get_exp_groupings(dir_name, folders)\n",
        "\n",
        "# folders_102864 = ['2-20-2025-102864JAABAData', '3-4-2025-102864JAABAData', '3-26-2025-102864JAABAData']\n",
        "# paths_102864 = get_exp_groupings(dir_name, folders_102864)"
      ],
      "metadata": {
        "id": "3nGMHVc261BO"
      },
      "execution_count": 74,
      "outputs": []
    },
    {
      "cell_type": "markdown",
      "source": [
        "# Extract and Bar Plot Data"
      ],
      "metadata": {
        "id": "OgOP8hpJxrtb"
      }
    },
    {
      "cell_type": "code",
      "source": [
        "def get_data(flybowls, beh, exp_time_secs, fps=30):\n",
        "  max_length = 0\n",
        "  all_data = None\n",
        "  for flybowl in flybowls:\n",
        "    t0 = sp.io.loadmat(os.path.join(flybowl, beh))['allScores'][0][0][5][0]\n",
        "    t1 = sp.io.loadmat(os.path.join(flybowl, beh))['allScores'][0][0][6][0]\n",
        "\n",
        "    n_flies = t0.shape[0]\n",
        "    flybowl_data = np.zeros((n_flies, exp_time_secs*30))\n",
        "    for fly in range(n_flies):\n",
        "      t0_i, t1_i = t0[fly][0], t1[fly][0]\n",
        "      for i in range(len(t0_i)):\n",
        "        flybowl_data[fly][t0_i[i]:t1_i[i]] = 1\n",
        "\n",
        "    flybowl_data = np.sum(flybowl_data, axis=0)\n",
        "    if all_data is None:\n",
        "      all_data = flybowl_data\n",
        "    else:\n",
        "      all_data = np.vstack([all_data, flybowl_data])\n",
        "  return all_data\n",
        "\n",
        "def clean_data(uncleaned_data, slices, slice_size, fps=30):\n",
        "  df = pd.DataFrame(np.transpose(uncleaned_data))\n",
        "\n",
        "  bins = np.arange(0, slices)*fps*slice_size\n",
        "  df['bins'] = pd.cut(df.index, bins, right=False)\n",
        "  df = df.groupby('bins', observed=False).sum()[0:60]\n",
        "\n",
        "  return df\n",
        "\n",
        "def graph(data_dict, beh, color_groupings, slices, output_folder):\n",
        "  means, sem = {}, {}\n",
        "  for group in groups:\n",
        "    means[group] = np.mean(data_dict[group].T, axis=0).reset_index(drop=True)\n",
        "    sem[group] = sp.stats.sem(data_dict[group].T)\n",
        "\n",
        "  fig, ax = plt.subplots()\n",
        "  fig.set_size_inches(20, 10)\n",
        "\n",
        "  for group in groups:\n",
        "    ax.plot(means[group], color=color_groupings[group], alpha=0.666, label=group)\n",
        "    ax.fill_between(np.arange(0, len(means[group])), means[group]-sem[group], means[group]+sem[group], color=color_groupings[group], alpha=.2)\n",
        "\n",
        "  leg = ax.legend(fontsize=12, frameon=False)\n",
        "  for legobj in leg.get_lines():\n",
        "      legobj.set_linewidth(3)\n",
        "\n",
        "  ax.set_title(beh, fontsize=16)\n",
        "  ax.set_xlabel('Slices', fontsize=14)\n",
        "  ax.set_ylabel('Occurrences', fontsize=14)\n",
        "\n",
        "  ax.set_xticks(np.arange(0, slices))\n",
        "  ax.set_xticklabels(np.arange(slices), fontsize=12)\n",
        "  ax.tick_params(axis='y', labelsize=12)\n",
        "\n",
        "  ax.spines['top'].set_visible(False)\n",
        "  ax.spines['right'].set_visible(False)\n",
        "\n",
        "  plt.savefig(os.path.join(output_folder, f'{beh}.pdf'))"
      ],
      "metadata": {
        "id": "lrk8IRZAxwCz"
      },
      "execution_count": 75,
      "outputs": []
    },
    {
      "cell_type": "code",
      "source": [
        "time_secs, total_slices, slice_size_secs = 120, 12, 10\n",
        "colors = {'Q1':'tab:blue', 'Q2':'tab:orange', 'Q3':'tab:green', 'Q4':'tab:red'}\n",
        "groups = paths['group'].unique()\n",
        "for beh in behaviors_list:\n",
        "  beh_name = beh[beh.find(\"_\")+1:beh.rfind(\".\")]\n",
        "\n",
        "  data = {}\n",
        "  for group in groups:\n",
        "    data[group] = clean_data(get_data(paths[paths['group'] == group]['path'], beh, exp_time_secs=time_secs), slices=total_slices, slice_size=slice_size_secs)\n",
        "    data[group].to_csv(f'/content/drive/MyDrive/0 Flybowl/test/{beh_name}/{group}_data.csv')\n",
        "\n",
        "  graph(data, beh_name, colors, total_slices, '/content/drive/MyDrive/0 Flybowl/test')"
      ],
      "metadata": {
        "id": "nvD2f9m6yuHb"
      },
      "execution_count": null,
      "outputs": []
    }
  ]
}