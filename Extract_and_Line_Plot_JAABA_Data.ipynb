{
  "nbformat": 4,
  "nbformat_minor": 0,
  "metadata": {
    "colab": {
      "provenance": [],
      "authorship_tag": "ABX9TyNDDn0o1C3BBXvDeXVk32te"
    },
    "kernelspec": {
      "name": "python3",
      "display_name": "Python 3"
    },
    "language_info": {
      "name": "python"
    }
  },
  "cells": [
    {
      "cell_type": "code",
      "execution_count": 1,
      "metadata": {
        "colab": {
          "base_uri": "https://localhost:8080/"
        },
        "id": "DdV1eLH34kfI",
        "outputId": "130105fe-6b65-4cdb-c5b2-0612bc607578"
      },
      "outputs": [
        {
          "output_type": "stream",
          "name": "stdout",
          "text": [
            "Mounted at /content/drive\n"
          ]
        }
      ],
      "source": [
        "from google.colab import drive\n",
        "drive.mount('/content/drive')"
      ]
    },
    {
      "cell_type": "code",
      "source": [
        "import os\n",
        "import numpy as np\n",
        "import pandas as pd\n",
        "import scipy as sp\n",
        "import matplotlib.pyplot as plt\n",
        "\n",
        "import matplotlib\n",
        "matplotlib.rcParams['pdf.fonttype'] = 42\n",
        "matplotlib.rcParams['ps.fonttype'] = 42"
      ],
      "metadata": {
        "id": "Md6fnLQc4sDx"
      },
      "execution_count": 2,
      "outputs": []
    },
    {
      "cell_type": "markdown",
      "source": [
        "# Get list of behaviors"
      ],
      "metadata": {
        "id": "900FVtyY7x_B"
      }
    },
    {
      "cell_type": "code",
      "source": [
        "def get_behaviors_list(exp_dir):\n",
        "    \"\"\"\n",
        "    Finds first JAABA experiment and returns list of all behavioral files.\n",
        "    \"\"\"\n",
        "    flybowl_path = os.path.join(exp_dir, next(os.walk(exp_dir))[1][0])\n",
        "    return list(filter(lambda x: x.startswith('scores'), os.listdir(flybowl_path)))\n",
        "behaviors_list = get_behaviors_list(os.path.join('/content/drive/MyDrive/0 Flybowl/2025 FlyBowl JABBA data/2-5-2025-30207JAABAData'))\n",
        "print(behaviors_list)"
      ],
      "metadata": {
        "colab": {
          "base_uri": "https://localhost:8080/"
        },
        "id": "rN6YeJJy7xxN",
        "outputId": "cf102b4b-4913-4558-81f2-b498d2932ed7"
      },
      "execution_count": 3,
      "outputs": [
        {
          "output_type": "stream",
          "name": "stdout",
          "text": [
            "['scores_Walk.mat', 'scoresTouch.mat', 'scores_Stops.mat', 'scores_pivot_center.mat', 'scores_Jump.mat', 'scores_Righting.mat', 'scores_Crabwalk3.mat', 'scores_Crabwalk2.mat', 'scores_Copulation.mat', 'scores_Chasev7.mat', 'scores_Chaining.mat', 'scores_BodyTurns.mat', 'scores_pivot_tail.mat', 'scoresBackup.mat', 'scores_AttemptedCopulation.mat']\n"
          ]
        }
      ]
    },
    {
      "cell_type": "markdown",
      "source": [
        "# Set up folder structure for data storage"
      ],
      "metadata": {
        "id": "TdN0L-DN6IP1"
      }
    },
    {
      "cell_type": "code",
      "source": [
        "folder_name = '/content/drive/MyDrive/0 Flybowl/2025 FlyBowl JABBA data/2-5-2025-30207JAABAData'\n",
        "for behavior in behaviors_list:\n",
        "    os.mkdir(os.path.join('/content/drive/MyDrive/0 Flybowl/line/102864 data', behavior[behavior.find(\"_\")+1:behavior.rfind(\".\")]))"
      ],
      "metadata": {
        "id": "PuALz0_74uAe"
      },
      "execution_count": null,
      "outputs": []
    },
    {
      "cell_type": "markdown",
      "source": [
        "# Get experimental groupings for each line"
      ],
      "metadata": {
        "id": "Pc7VOWdr6wPf"
      }
    },
    {
      "cell_type": "code",
      "source": [
        "def get_exp_groupings(exp_dir, subfolders):\n",
        "  groupings_list = []\n",
        "  for subfolder in subfolders:\n",
        "    for exp in os.listdir(os.path.join(exp_dir, subfolder)):\n",
        "      exp_path = os.path.join(exp_dir, subfolder, exp)\n",
        "      grouping = exp.rsplit(' ')[-1][1:2]\n",
        "      groupings_list.append([exp_path, grouping])\n",
        "  return pd.DataFrame(groupings_list, columns=['path', 'group'])\n",
        "\n",
        "dir_name = '/content/drive/MyDrive/0 Flybowl/2025 FlyBowl JABBA data'\n",
        "folders_30207 = ['2-5-2025-30207JAABAData', '2-12-2025-30207JAABAData']\n",
        "paths_30207 = get_exp_groupings(dir_name, folders_30207)\n",
        "\n",
        "folders_102864 = ['2-20-2025-102864JAABAData', '3-4-2025-102864JAABAData', '3-26-2025-102864JAABAData']\n",
        "paths_102864 = get_exp_groupings(dir_name, folders_102864)"
      ],
      "metadata": {
        "id": "3nGMHVc261BO"
      },
      "execution_count": 5,
      "outputs": []
    },
    {
      "cell_type": "markdown",
      "source": [
        "# Extract and Bar Plot Data"
      ],
      "metadata": {
        "id": "OgOP8hpJxrtb"
      }
    },
    {
      "cell_type": "code",
      "source": [
        "def get_data(flybowls, beh):\n",
        "  max_length = 0\n",
        "  all_data = None\n",
        "  for flybowl in flybowls:\n",
        "    t0 = sp.io.loadmat(os.path.join(flybowl, beh))['allScores'][0][0][5][0]\n",
        "    t1 = sp.io.loadmat(os.path.join(flybowl, beh))['allScores'][0][0][6][0]\n",
        "\n",
        "    n_flies = t0.shape[0]\n",
        "    flybowl_data = np.zeros((n_flies, 19800))\n",
        "    for fly in range(n_flies):\n",
        "      t0_i, t1_i = t0[fly][0], t1[fly][0]\n",
        "      for i in range(len(t0_i)):\n",
        "        flybowl_data[fly][t0_i[i]:t1_i[i]] = 1\n",
        "\n",
        "    flybowl_data = np.sum(flybowl_data, axis=0)\n",
        "    if all_data is None:\n",
        "      all_data = flybowl_data\n",
        "    else:\n",
        "      all_data = np.vstack([all_data, flybowl_data])\n",
        "  return all_data\n",
        "\n",
        "def clean_data(uncleaned_data):\n",
        "  df = pd.DataFrame(np.transpose(uncleaned_data))\n",
        "\n",
        "  bins = np.arange(0, 66)*30*10\n",
        "  df['bins'] = pd.cut(df.index, bins, right=False)\n",
        "  df = df.groupby('bins').sum()[0:60]\n",
        "\n",
        "  return df\n",
        "\n",
        "def graph(data_exp, data_c1, data_c2,  beh):\n",
        "  exp_mean = np.mean(data_exp, axis=0)\n",
        "  exp_sem = sp.stats.sem(data_exp)\n",
        "\n",
        "  c1_mean = np.mean(data_c1, axis=0)\n",
        "  c1_sem = sp.stats.sem(data_c1)\n",
        "\n",
        "  c2_mean = np.mean(data_c2, axis=0)\n",
        "  c2_sem = sp.stats.sem(data_c2)\n",
        "\n",
        "  fig, ax = plt.subplots()\n",
        "  fig.set_size_inches(20, 10)\n",
        "\n",
        "  ax.plot(exp_mean, color='deepskyblue', alpha=0.666, label='Experimental')\n",
        "  ax.fill_between(np.arange(0, 60), exp_mean-exp_sem, exp_mean+exp_sem, color='deepskyblue', alpha=.2)\n",
        "\n",
        "  ax.plot(c1_mean, color='lightgray', alpha=0.666, label='Control 1')\n",
        "  ax.fill_between(np.arange(0, 60), c1_mean-c1_sem, c1_mean+c1_sem, color='lightgray', alpha=.2)\n",
        "\n",
        "  ax.plot(c2_mean, color='darkgray', alpha=0.666, label='Control 2')\n",
        "  ax.fill_between(np.arange(0, 60), c2_mean-c2_sem, c2_mean+c2_sem, color='darkgray', alpha=.2)\n",
        "\n",
        "  leg = ax.legend(fontsize=12, frameon=False)\n",
        "  for legobj in leg.get_lines():\n",
        "      legobj.set_linewidth(3)\n",
        "\n",
        "  ax.set_title(beh, fontsize=16)\n",
        "  ax.set_xlabel('Time (min)', fontsize=14)\n",
        "  ax.set_ylabel('Occurrences', fontsize=14)\n",
        "\n",
        "  ax.set_xticks(np.arange(0, 11)*6)\n",
        "  ax.set_xticklabels(np.arange(11), fontsize=12)\n",
        "  ax.tick_params(axis='y', labelsize=12)\n",
        "\n",
        "  ax.spines['top'].set_visible(False)\n",
        "  ax.spines['right'].set_visible(False)\n",
        "\n",
        "  plt.savefig(f'/content/drive/MyDrive/0 Flybowl/line/30207 plots/{beh}.pdf')"
      ],
      "metadata": {
        "id": "lrk8IRZAxwCz"
      },
      "execution_count": 11,
      "outputs": []
    },
    {
      "cell_type": "code",
      "source": [
        "current_exp = paths_30207\n",
        "for beh in behaviors_list:\n",
        "  exp_data = clean_data(get_data(current_exp[current_exp['group'] == '1']['path'], beh))\n",
        "  c1_data = clean_data(get_data(current_exp[current_exp['group'] == '2']['path'], beh))\n",
        "  c2_data = clean_data(get_data(current_exp[current_exp['group'] == '3']['path'], beh))\n",
        "\n",
        "  beh_name = beh[beh.find(\"_\")+1:beh.rfind(\".\")]\n",
        "  exp_data.to_csv(f'/content/drive/MyDrive/0 Flybowl/line/30207 data/{beh_name}/exp.csv')\n",
        "  c1_data.to_csv(f'/content/drive/MyDrive/0 Flybowl/line/30207 data/{beh_name}/c1.csv')\n",
        "  c2_data.to_csv(f'/content/drive/MyDrive/0 Flybowl/line/30207 data/{beh_name}/c2.csv')\n",
        "  graph(np.array(exp_data).T, np.array(c1_data).T, np.array(c2_data).T, beh_name)"
      ],
      "metadata": {
        "id": "nvD2f9m6yuHb"
      },
      "execution_count": null,
      "outputs": []
    }
  ]
}