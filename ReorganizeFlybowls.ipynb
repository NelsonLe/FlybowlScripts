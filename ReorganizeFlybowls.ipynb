{
  "nbformat": 4,
  "nbformat_minor": 0,
  "metadata": {
    "colab": {
      "provenance": [],
      "authorship_tag": "ABX9TyNLttsXDaKOZ319hYs1iqfV"
    },
    "kernelspec": {
      "name": "python3",
      "display_name": "Python 3"
    },
    "language_info": {
      "name": "python"
    }
  },
  "cells": [
    {
      "cell_type": "code",
      "execution_count": null,
      "metadata": {
        "id": "mjFpDX9GLLVD"
      },
      "outputs": [],
      "source": [
        "# connect to google drive\n",
        "from google.colab import drive\n",
        "drive.mount('/content/drive')\n",
        "\n",
        "# import packages we need for analysis and graphing\n",
        "import os\n",
        "import shutil\n",
        "\n",
        "# simply move each file to a folder named after itself\n",
        "path_str = '/content/drive/MyDrive/FlyBowl Movies(Kaunlab) 2025'\n",
        "for root, folders, files in os.walk(path_str):\n",
        "  for flybowls in files:\n",
        "    folder_name = os.path.splitext(flybowls)[0]\n",
        "    os.mkdir(os.path.join(root, folder_name))\n",
        "    os.replace(os.path.join(root, flybowls), os.path.join(root, folder_name, flybowls))"
      ]
    }
  ]
}